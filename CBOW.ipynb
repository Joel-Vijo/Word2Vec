{
  "nbformat": 4,
  "nbformat_minor": 0,
  "metadata": {
    "colab": {
      "name": "CBOW.ipynb",
      "provenance": [],
      "collapsed_sections": [],
      "include_colab_link": true
    },
    "kernelspec": {
      "name": "python3",
      "display_name": "Python 3"
    },
    "language_info": {
      "name": "python"
    }
  },
  "cells": [
    {
      "cell_type": "markdown",
      "metadata": {
        "id": "view-in-github",
        "colab_type": "text"
      },
      "source": [
        "<a href=\"https://colab.research.google.com/github/Joel-Vijo/Word2Vec/blob/main/CBOW.ipynb\" target=\"_parent\"><img src=\"https://colab.research.google.com/assets/colab-badge.svg\" alt=\"Open In Colab\"/></a>"
      ]
    },
    {
      "cell_type": "code",
      "metadata": {
        "id": "mBCR0o64Ti4o"
      },
      "source": [
        "import numpy as np\n",
        "import torch\n",
        "import torch.nn as nn\n",
        "from collections import Counter\n",
        "import matplotlib.pyplot as plt\n",
        "from torch.nn.functional import normalize"
      ],
      "execution_count": 1,
      "outputs": []
    },
    {
      "cell_type": "code",
      "metadata": {
        "id": "WSKwT5OPUEvp"
      },
      "source": [
        "def make_context_vector(context, word_to_ix,vocab_size):\n",
        "    idxs=torch.zeros(len(context),vocab_size)\n",
        "    i=0\n",
        "    for w in context:\n",
        "      idxs[i,word_to_ix[w]]=1\n",
        "      i+=1\n",
        "    return idxs\n",
        "    "
      ],
      "execution_count": 2,
      "outputs": []
    },
    {
      "cell_type": "code",
      "metadata": {
        "id": "wd3HuQiEVHga"
      },
      "source": [
        "raw_text = \"\"\"VNIT was a place with void scope for innovation in the field of robotics. Three enthusiastic youth from the different departments, but with same zeal, passion, perseverance and by their overwhelming contribution ,led to the dawn of robotics in VNIT Nagpur. With a smaller area and fewer funds, they sustained their interest and this audacious step bore fruits as their hard work converted into reality by the build of their first bipeds, snake robots and blind assisting devices.Our team is passionate about building robots for the greater good. We manage funds by our own, and with the unconditional support of our alumni. Not only do we build robots, but also propagate our knowledge to the younger lot by conducting workshops on various aspects of robotics, which foster them make them aware of this field. We help them in their endeavor to success. We have come a long way and as we strive for more, there would be greater difficulties ahead and thus our perseverance will never vanish. ​\"\"\".split()"
      ],
      "execution_count": 3,
      "outputs": []
    },
    {
      "cell_type": "code",
      "metadata": {
        "id": "aL0HbhTBTyj2",
        "colab": {
          "base_uri": "https://localhost:8080/"
        },
        "outputId": "2f4c5024-2d51-486b-d6ce-1d0c6a2bf910"
      },
      "source": [
        "context_size = 2\n",
        "embedding_dim = 100\n",
        "\n",
        "vocab = set(raw_text)\n",
        "vocab_size = len(vocab)\n",
        "\n",
        "word_list = list(vocab)\n",
        "\n",
        "word_to_ix = {word:ix for ix, word in enumerate(vocab)}\n",
        "ix_to_word = {ix:word for ix, word in enumerate(vocab)}\n",
        "print(word_list)"
      ],
      "execution_count": 4,
      "outputs": [
        {
          "output_type": "stream",
          "name": "stdout",
          "text": [
            "['on', 'be', 'from', '\\u200b', 'VNIT', 'perseverance', 'success.', 'strive', 'never', 'endeavor', 'blind', 'for', 'of', 'various', 'as', 'innovation', 'scope', 'younger', 'Three', 'workshops', 'make', 'into', 'robotics', 'converted', 'good.', 'way', 'field.', 'alumni.', 'place', 'own,', 'work', 'hard', 'them', 'youth', 'manage', 'same', 'aspects', 'we', 'foster', 'funds,', 'robots,', 'only', 'robotics,', 'more,', 'about', 'do', 'also', 'robotics.', 'would', 'have', 'contribution', 'enthusiastic', 'a', ',led', 'aware', 'devices.Our', 'propagate', 'to', 'in', 'snake', 'with', 'support', 'will', 'funds', 'bipeds,', 'lot', 'passion,', 'area', 'knowledge', 'help', 'which', 'come', 'audacious', 'unconditional', 'departments,', 'void', 'there', 'and', 'sustained', 'smaller', 'the', 'by', 'step', 'interest', 'passionate', 'long', 'With', 'Nagpur.', 'bore', 'is', 'conducting', 'team', 'different', 'but', 'Not', 'thus', 'fewer', 'they', 'greater', 'building', 'assisting', 'field', 'was', 'overwhelming', 'this', 'build', 'We', 'difficulties', 'dawn', 'fruits', 'ahead', 'vanish.', 'first', 'reality', 'zeal,', 'our', 'their', 'robots']\n"
          ]
        }
      ]
    },
    {
      "cell_type": "code",
      "metadata": {
        "colab": {
          "base_uri": "https://localhost:8080/"
        },
        "id": "Mp5zb9QWQbwa",
        "outputId": "e83f90fb-aa32-414d-f7b0-e714d847e672"
      },
      "source": [
        "def CBOW(raw_text, window_size=2):\n",
        "    data = []\n",
        "    for i in range(window_size, len(raw_text) - window_size):\n",
        "        context = [raw_text[i - window_size], raw_text[i - (window_size - 1)], raw_text[i + (window_size - 1)], raw_text[i + window_size]]\n",
        "        target = raw_text[i]\n",
        "        data.append((context, target))\n",
        "\n",
        "    return data\n",
        "\n",
        "\n",
        "data = CBOW(raw_text)\n",
        "print(data)"
      ],
      "execution_count": 5,
      "outputs": [
        {
          "output_type": "stream",
          "name": "stdout",
          "text": [
            "[(['VNIT', 'was', 'place', 'with'], 'a'), (['was', 'a', 'with', 'void'], 'place'), (['a', 'place', 'void', 'scope'], 'with'), (['place', 'with', 'scope', 'for'], 'void'), (['with', 'void', 'for', 'innovation'], 'scope'), (['void', 'scope', 'innovation', 'in'], 'for'), (['scope', 'for', 'in', 'the'], 'innovation'), (['for', 'innovation', 'the', 'field'], 'in'), (['innovation', 'in', 'field', 'of'], 'the'), (['in', 'the', 'of', 'robotics.'], 'field'), (['the', 'field', 'robotics.', 'Three'], 'of'), (['field', 'of', 'Three', 'enthusiastic'], 'robotics.'), (['of', 'robotics.', 'enthusiastic', 'youth'], 'Three'), (['robotics.', 'Three', 'youth', 'from'], 'enthusiastic'), (['Three', 'enthusiastic', 'from', 'the'], 'youth'), (['enthusiastic', 'youth', 'the', 'different'], 'from'), (['youth', 'from', 'different', 'departments,'], 'the'), (['from', 'the', 'departments,', 'but'], 'different'), (['the', 'different', 'but', 'with'], 'departments,'), (['different', 'departments,', 'with', 'same'], 'but'), (['departments,', 'but', 'same', 'zeal,'], 'with'), (['but', 'with', 'zeal,', 'passion,'], 'same'), (['with', 'same', 'passion,', 'perseverance'], 'zeal,'), (['same', 'zeal,', 'perseverance', 'and'], 'passion,'), (['zeal,', 'passion,', 'and', 'by'], 'perseverance'), (['passion,', 'perseverance', 'by', 'their'], 'and'), (['perseverance', 'and', 'their', 'overwhelming'], 'by'), (['and', 'by', 'overwhelming', 'contribution'], 'their'), (['by', 'their', 'contribution', ',led'], 'overwhelming'), (['their', 'overwhelming', ',led', 'to'], 'contribution'), (['overwhelming', 'contribution', 'to', 'the'], ',led'), (['contribution', ',led', 'the', 'dawn'], 'to'), ([',led', 'to', 'dawn', 'of'], 'the'), (['to', 'the', 'of', 'robotics'], 'dawn'), (['the', 'dawn', 'robotics', 'in'], 'of'), (['dawn', 'of', 'in', 'VNIT'], 'robotics'), (['of', 'robotics', 'VNIT', 'Nagpur.'], 'in'), (['robotics', 'in', 'Nagpur.', 'With'], 'VNIT'), (['in', 'VNIT', 'With', 'a'], 'Nagpur.'), (['VNIT', 'Nagpur.', 'a', 'smaller'], 'With'), (['Nagpur.', 'With', 'smaller', 'area'], 'a'), (['With', 'a', 'area', 'and'], 'smaller'), (['a', 'smaller', 'and', 'fewer'], 'area'), (['smaller', 'area', 'fewer', 'funds,'], 'and'), (['area', 'and', 'funds,', 'they'], 'fewer'), (['and', 'fewer', 'they', 'sustained'], 'funds,'), (['fewer', 'funds,', 'sustained', 'their'], 'they'), (['funds,', 'they', 'their', 'interest'], 'sustained'), (['they', 'sustained', 'interest', 'and'], 'their'), (['sustained', 'their', 'and', 'this'], 'interest'), (['their', 'interest', 'this', 'audacious'], 'and'), (['interest', 'and', 'audacious', 'step'], 'this'), (['and', 'this', 'step', 'bore'], 'audacious'), (['this', 'audacious', 'bore', 'fruits'], 'step'), (['audacious', 'step', 'fruits', 'as'], 'bore'), (['step', 'bore', 'as', 'their'], 'fruits'), (['bore', 'fruits', 'their', 'hard'], 'as'), (['fruits', 'as', 'hard', 'work'], 'their'), (['as', 'their', 'work', 'converted'], 'hard'), (['their', 'hard', 'converted', 'into'], 'work'), (['hard', 'work', 'into', 'reality'], 'converted'), (['work', 'converted', 'reality', 'by'], 'into'), (['converted', 'into', 'by', 'the'], 'reality'), (['into', 'reality', 'the', 'build'], 'by'), (['reality', 'by', 'build', 'of'], 'the'), (['by', 'the', 'of', 'their'], 'build'), (['the', 'build', 'their', 'first'], 'of'), (['build', 'of', 'first', 'bipeds,'], 'their'), (['of', 'their', 'bipeds,', 'snake'], 'first'), (['their', 'first', 'snake', 'robots'], 'bipeds,'), (['first', 'bipeds,', 'robots', 'and'], 'snake'), (['bipeds,', 'snake', 'and', 'blind'], 'robots'), (['snake', 'robots', 'blind', 'assisting'], 'and'), (['robots', 'and', 'assisting', 'devices.Our'], 'blind'), (['and', 'blind', 'devices.Our', 'team'], 'assisting'), (['blind', 'assisting', 'team', 'is'], 'devices.Our'), (['assisting', 'devices.Our', 'is', 'passionate'], 'team'), (['devices.Our', 'team', 'passionate', 'about'], 'is'), (['team', 'is', 'about', 'building'], 'passionate'), (['is', 'passionate', 'building', 'robots'], 'about'), (['passionate', 'about', 'robots', 'for'], 'building'), (['about', 'building', 'for', 'the'], 'robots'), (['building', 'robots', 'the', 'greater'], 'for'), (['robots', 'for', 'greater', 'good.'], 'the'), (['for', 'the', 'good.', 'We'], 'greater'), (['the', 'greater', 'We', 'manage'], 'good.'), (['greater', 'good.', 'manage', 'funds'], 'We'), (['good.', 'We', 'funds', 'by'], 'manage'), (['We', 'manage', 'by', 'our'], 'funds'), (['manage', 'funds', 'our', 'own,'], 'by'), (['funds', 'by', 'own,', 'and'], 'our'), (['by', 'our', 'and', 'with'], 'own,'), (['our', 'own,', 'with', 'the'], 'and'), (['own,', 'and', 'the', 'unconditional'], 'with'), (['and', 'with', 'unconditional', 'support'], 'the'), (['with', 'the', 'support', 'of'], 'unconditional'), (['the', 'unconditional', 'of', 'our'], 'support'), (['unconditional', 'support', 'our', 'alumni.'], 'of'), (['support', 'of', 'alumni.', 'Not'], 'our'), (['of', 'our', 'Not', 'only'], 'alumni.'), (['our', 'alumni.', 'only', 'do'], 'Not'), (['alumni.', 'Not', 'do', 'we'], 'only'), (['Not', 'only', 'we', 'build'], 'do'), (['only', 'do', 'build', 'robots,'], 'we'), (['do', 'we', 'robots,', 'but'], 'build'), (['we', 'build', 'but', 'also'], 'robots,'), (['build', 'robots,', 'also', 'propagate'], 'but'), (['robots,', 'but', 'propagate', 'our'], 'also'), (['but', 'also', 'our', 'knowledge'], 'propagate'), (['also', 'propagate', 'knowledge', 'to'], 'our'), (['propagate', 'our', 'to', 'the'], 'knowledge'), (['our', 'knowledge', 'the', 'younger'], 'to'), (['knowledge', 'to', 'younger', 'lot'], 'the'), (['to', 'the', 'lot', 'by'], 'younger'), (['the', 'younger', 'by', 'conducting'], 'lot'), (['younger', 'lot', 'conducting', 'workshops'], 'by'), (['lot', 'by', 'workshops', 'on'], 'conducting'), (['by', 'conducting', 'on', 'various'], 'workshops'), (['conducting', 'workshops', 'various', 'aspects'], 'on'), (['workshops', 'on', 'aspects', 'of'], 'various'), (['on', 'various', 'of', 'robotics,'], 'aspects'), (['various', 'aspects', 'robotics,', 'which'], 'of'), (['aspects', 'of', 'which', 'foster'], 'robotics,'), (['of', 'robotics,', 'foster', 'them'], 'which'), (['robotics,', 'which', 'them', 'make'], 'foster'), (['which', 'foster', 'make', 'them'], 'them'), (['foster', 'them', 'them', 'aware'], 'make'), (['them', 'make', 'aware', 'of'], 'them'), (['make', 'them', 'of', 'this'], 'aware'), (['them', 'aware', 'this', 'field.'], 'of'), (['aware', 'of', 'field.', 'We'], 'this'), (['of', 'this', 'We', 'help'], 'field.'), (['this', 'field.', 'help', 'them'], 'We'), (['field.', 'We', 'them', 'in'], 'help'), (['We', 'help', 'in', 'their'], 'them'), (['help', 'them', 'their', 'endeavor'], 'in'), (['them', 'in', 'endeavor', 'to'], 'their'), (['in', 'their', 'to', 'success.'], 'endeavor'), (['their', 'endeavor', 'success.', 'We'], 'to'), (['endeavor', 'to', 'We', 'have'], 'success.'), (['to', 'success.', 'have', 'come'], 'We'), (['success.', 'We', 'come', 'a'], 'have'), (['We', 'have', 'a', 'long'], 'come'), (['have', 'come', 'long', 'way'], 'a'), (['come', 'a', 'way', 'and'], 'long'), (['a', 'long', 'and', 'as'], 'way'), (['long', 'way', 'as', 'we'], 'and'), (['way', 'and', 'we', 'strive'], 'as'), (['and', 'as', 'strive', 'for'], 'we'), (['as', 'we', 'for', 'more,'], 'strive'), (['we', 'strive', 'more,', 'there'], 'for'), (['strive', 'for', 'there', 'would'], 'more,'), (['for', 'more,', 'would', 'be'], 'there'), (['more,', 'there', 'be', 'greater'], 'would'), (['there', 'would', 'greater', 'difficulties'], 'be'), (['would', 'be', 'difficulties', 'ahead'], 'greater'), (['be', 'greater', 'ahead', 'and'], 'difficulties'), (['greater', 'difficulties', 'and', 'thus'], 'ahead'), (['difficulties', 'ahead', 'thus', 'our'], 'and'), (['ahead', 'and', 'our', 'perseverance'], 'thus'), (['and', 'thus', 'perseverance', 'will'], 'our'), (['thus', 'our', 'will', 'never'], 'perseverance'), (['our', 'perseverance', 'never', 'vanish.'], 'will'), (['perseverance', 'will', 'vanish.', '\\u200b'], 'never')]\n"
          ]
        }
      ]
    },
    {
      "cell_type": "code",
      "metadata": {
        "id": "0Q5-bvDTT1VC"
      },
      "source": [
        "class CBOW_Model(torch.nn.Module):\n",
        "    def __init__(self, vocab_size, embedding_dim):\n",
        "        super(CBOW_Model, self).__init__()\n",
        "        self.n_embed=embedding_dim\n",
        "        self.embeddings = nn.Linear(vocab_size,embedding_dim)\n",
        "        self.activation = nn.LogSoftmax(dim=-1)\n",
        "        self.linear = nn.Linear(embedding_dim, vocab_size)\n",
        "      \n",
        "    def forward(self, inputs):\n",
        "        input=torch.mean(inputs,0,True)\n",
        "        embeds = self.embeddings(input)\n",
        "        out = self.linear(embeds)\n",
        "        out = self.activation(out)\n",
        "        return out\n",
        "        \n",
        "    def get_word_emdedding(self, word):\n",
        "        w = torch.zeros(1,vocab_size)\n",
        "        w[0,word_to_ix[word]]=1\n",
        "        return self.embeddings(w).view(1,-1)\n",
        "    "
      ],
      "execution_count": 6,
      "outputs": []
    },
    {
      "cell_type": "code",
      "metadata": {
        "id": "zDkjrjKFT3q9"
      },
      "source": [
        "\n",
        "model = CBOW_Model(vocab_size, embedding_dim)\n",
        "\n",
        "loss_function = nn.NLLLoss()\n",
        "optimizer = torch.optim.SGD(model.parameters(), lr=0.01)"
      ],
      "execution_count": 7,
      "outputs": []
    },
    {
      "cell_type": "code",
      "metadata": {
        "id": "3gJ2ELIMT9YU",
        "colab": {
          "base_uri": "https://localhost:8080/"
        },
        "outputId": "2d9512db-b08b-41df-c7ea-fd59ff486f43"
      },
      "source": [
        "#TRAINING\n",
        "losses=[]\n",
        "for epoch in range(350):\n",
        "    total_loss = 0\n",
        "    n=0\n",
        "    for context, target in data:\n",
        "        context_vector = make_context_vector(context, word_to_ix,vocab_size) \n",
        "        log_probs = model(context_vector)\n",
        "        loss = loss_function(log_probs, torch.tensor([word_to_ix[target]]))\n",
        "        total_loss+=loss\n",
        "        n+=1\n",
        "    if(epoch%10==0):\n",
        "      print(total_loss.item()/n)\n",
        "    losses.append(total_loss.item()/n)\n",
        "    #print(total_loss)\n",
        "    optimizer.zero_grad()\n",
        "    total_loss.backward()\n",
        "    optimizer.step()"
      ],
      "execution_count": 8,
      "outputs": [
        {
          "output_type": "stream",
          "name": "stdout",
          "text": [
            "4.773348552424733\n",
            "4.614468830387767\n",
            "4.531252605159108\n",
            "4.505633470488758\n",
            "4.484501164133956\n",
            "4.461810228301258\n",
            "4.435968538609947\n",
            "4.40568393614234\n",
            "4.369538842177972\n",
            "4.325926245712653\n",
            "4.273053052948742\n",
            "4.208988468821456\n",
            "4.131809885908917\n",
            "4.039826555949886\n",
            "3.931806610851753\n",
            "3.8071973847179876\n",
            "3.6661723067120806\n",
            "3.509517018387957\n",
            "3.338419472298971\n",
            "3.154327392578125\n",
            "2.958969674459318\n",
            "2.754506553091654\n",
            "2.5436477661132812\n",
            "2.3296465990020008\n",
            "2.116165719381193\n",
            "1.9070851395769817\n",
            "1.7062351878096418\n",
            "1.5170954262338034\n",
            "1.342493103771675\n",
            "1.1843585502810594\n",
            "1.0436007802079363\n",
            "0.9201262869485994\n",
            "0.8130096807712461\n",
            "0.7207655092565025\n",
            "0.6416297075225086\n"
          ]
        }
      ]
    },
    {
      "cell_type": "code",
      "source": [
        "fig = plt.figure()\n",
        "plt.xlabel('Epoch', fontsize=14)\n",
        "plt.plot(losses)\n",
        "print(losses)"
      ],
      "metadata": {
        "id": "Joyo02ri-Jej",
        "colab": {
          "base_uri": "https://localhost:8080/",
          "height": 321
        },
        "outputId": "950f52ae-db53-4136-abcc-275ac7a529ca"
      },
      "execution_count": 9,
      "outputs": [
        {
          "output_type": "stream",
          "name": "stdout",
          "text": [
            "[4.773348552424733, 4.756937910870808, 4.74100029177782, 4.725277040062881, 4.709569791468178, 4.693760197337081, 4.6778013648056405, 4.661716368140244, 4.645636581793064, 4.6297834442883, 4.614468830387767, 4.600062672684833, 4.586920761480564, 4.575318499309261, 4.565369396674924, 4.557010929758956, 4.550050316787347, 4.544225181021342, 4.539283194193026, 4.5350114775867, 4.531252605159108, 4.5278871117568595, 4.524825305473514, 4.522000568669017, 4.519363031154725, 4.516869893888148, 4.514488406297637, 4.512194749785633, 4.509962128429878, 4.507781238090701, 4.505633470488758, 4.503509893649962, 4.501401947765816, 4.49930591118045, 4.497210618926258, 4.495111977181783, 4.493012218940549, 4.490903156559642, 4.488783673542302, 4.486651536895008, 4.484501164133956, 4.4823362769150155, 4.4801524092511436, 4.477946211652058, 4.475719544945694, 4.47346645448266, 4.471191778415587, 4.4688873291015625, 4.466560549852325, 4.464198787037919, 4.461810228301258, 4.459389291158536, 4.456934114781822, 4.4544450713367, 4.451924021651105, 4.449364266744474, 4.446765434451219, 4.444129385599276, 4.441451282036014, 4.438733728920541, 4.435968538609947, 4.433162037919208, 4.430309760861281, 4.4274135682641, 4.424465644650343, 4.421466734351181, 4.418417581697789, 4.415318931021342, 4.412163339010099, 4.40895229432641, 4.40568393614234, 4.402358636623475, 4.3989711854516, 4.395524187785823, 4.392015038467035, 4.388438155011433, 4.384799492068407, 4.3810882568359375, 4.377309659632241, 4.373459606635861, 4.369538842177972, 4.365541783774772, 4.361468431426258, 4.357317296470084, 4.353086518078316, 4.3487727467606705, 4.344380820669779, 4.339898086175686, 4.335330870093369, 4.330674334270198, 4.325926245712653, 4.321088837414253, 4.316154293897675, 4.311125964653201, 4.30599677853468, 4.3007659912109375, 4.295436207841083, 4.290003706769245, 4.284461789014863, 4.278813059737042, 4.273053052948742, 4.267182140815549, 4.261198462509528, 4.255098296374809, 4.248880153749047, 4.242542173804306, 4.236081751381478, 4.229499258646151, 4.2227894852801064, 4.215953919945694, 4.208988468821456, 4.201892015410633, 4.194661210222942, 4.1872949367616235, 4.17979393935785, 4.172151891196647, 4.164371769602706, 4.156449108588986, 4.148382047327553, 4.140169097156059, 4.131809885908917, 4.123302924923781, 4.1146467255383, 4.105838310427782, 4.0968754465987045, 4.087761483541349, 4.078490838771913, 4.069060907131288, 4.059477271103278, 4.049731370879383, 4.039826555949886, 4.029761337652439, 4.019534227324695, 4.009143736304306, 3.9985906089224468, 3.987873356516768, 3.976990862590511, 3.9659453601371952, 3.954731266673018, 3.9433534203506095, 3.931806610851753, 3.920095676329078, 3.9082172672923017, 3.8961732445693595, 3.8839613751667303, 3.871582403415587, 3.8590363293159298, 3.8463265023580413, 3.8334503173828125, 3.8204066578934834, 3.8071973847179876, 3.793826963843369, 3.780290557116997, 3.7665892810356327, 3.7527257407583843, 3.7387003084508383, 3.7245137284441694, 3.710167489400724, 3.6956604748237423, 3.680996034203506, 3.6661723067120806, 3.6511926418397485, 3.6360589004144437, 3.6207688494426447, 3.605326582745808, 3.589729495164825, 3.573984657845846, 3.5580898377953507, 3.5420446628477515, 3.5258543433212655, 3.509517018387957, 3.493035293206936, 3.4764106564405486, 3.459642363757622, 3.4427348811451983, 3.425689325100038, 3.4085042069597944, 3.3911832483803352, 3.3737271936928352, 3.356139020221989, 3.338419472298971, 3.3205689220893673, 3.3025907190834602, 3.2844856076124236, 3.2662528433450837, 3.247897636599657, 3.229421103872904, 3.2108243616615852, 3.192108154296875, 3.1732758312690548, 3.154327392578125, 3.135267304211128, 3.1160950079196836, 3.096814411442454, 3.0774266312762006, 3.0579346447456173, 3.038338079685118, 3.018640843833365, 2.9988466588462273, 2.978954966475324, 2.958969674459318, 2.938892643626143, 2.918726293052115, 2.8984754608898626, 2.878137541980278, 2.857719049221132, 2.8372240764338796, 2.816651693204554, 2.7960052490234375, 2.7752895820431593, 2.754506553091654, 2.733657650831269, 2.7127490159941883, 2.691781578994379, 2.6707594336532967, 2.6496857433784298, 2.62856218291492, 2.6073941486637766, 2.5861814545422064, 2.5649345211866423, 2.5436477661132812, 2.5223319821241423, 2.5009880996331937, 2.479617979468369, 2.458226831947885, 2.436818564810404, 2.4153980162085555, 2.393964813976753, 2.3725265875095274, 2.351086872379954, 2.3296465990020008, 2.308211722025057, 2.286785777022199, 2.2653719274009148, 2.2439764999761813, 2.2226004251619664, 2.2012494715248665, 2.1799256859756095, 2.1586344649152056, 2.1373804604134907, 2.116165719381193, 2.0949948938881477, 2.073871705590225, 2.0528015508884336, 2.031786848859089, 2.0108322515720274, 1.9899399920207699, 1.9691158387719132, 1.9483627691501524, 1.9276845048113567, 1.9070851395769817, 1.8865687672684832, 1.8661389234589367, 1.8457985854730374, 1.8255520332150343, 1.805402802258003, 1.7853536838438453, 1.765409702207984, 1.7455727181783536, 1.7258477559903773, 1.7062351878096418, 1.6867426430306784, 1.6673690051567265, 1.6481207870855563, 1.6289983609827554, 1.6100069371665395, 1.59114763213367, 1.5724243536228086, 1.5538395207102706, 1.5353961107207508, 1.5170954262338034, 1.4989418401950743, 1.4809360038943407, 1.4630813598632812, 1.4453796758884336, 1.4278334640875094, 1.410443933998666, 1.3932134116568216, 1.3761431066001333, 1.3592360891946933, 1.342493103771675, 1.3259151737864425, 1.3095041600669302, 1.2932617373582793, 1.2771886499916636, 1.2612861075052402, 1.2455547611887863, 1.2299953553734757, 1.214609657845846, 1.1993967381919302, 1.1843585502810594, 1.1694948149890434, 1.154805997522866, 1.1402924700481136, 1.1259543256061832, 1.1117912850728848, 1.0978036275724086, 1.083991073980564, 1.0703534382145579, 1.0568899759432164, 1.0436007802079363, 1.0304849205947504, 1.0175426762278488, 1.0047720001965035, 0.9921727994593178, 0.9797439575195312, 0.9674854743771437, 0.9553955822456174, 0.943472699421208, 0.9317168259039158, 0.9201262869485994, 0.9086997799757051, 0.897435444157298, 0.886333093410585, 0.8753905877834414, 0.8646064386135195, 0.8539791572384718, 0.8435078132443312, 0.8331901736375762, 0.8230246567144627, 0.8130096807712461, 0.8031440362697695, 0.7934253971751143, 0.7838524609077268, 0.7744228549119903, 0.7651354626911443, 0.7559880977723656, 0.7469794575761004, 0.7381072160674305, 0.7293696519805164, 0.7207655092565025, 0.7122920431741854, 0.7039477650712176, 0.6957312793266482, 0.6876399807813691, 0.6796727529386195, 0.6718277349704649, 0.6641025543212891, 0.6564956292873476, 0.6490054246855945, 0.6416297075225086, 0.6343675008634242, 0.6272157808629478, 0.6201736171071123, 0.6132393813714748, 0.6064108406625143, 0.5996865993592797, 0.5930648431545351, 0.5865441299066311, 0.580122552266935]\n"
          ]
        },
        {
          "output_type": "display_data",
          "data": {
            "text/plain": [
              "<Figure size 432x288 with 1 Axes>"
            ],
            "image/png": "[encoded data removed]"
          },
          "metadata": {
            "needs_background": "light"
          }
        }
      ]
    },
    {
      "cell_type": "code",
      "metadata": {
        "id": "2TLJir1cT_Il"
      },
      "source": [
        "#TESTING\n",
        "context = ['place', 'with', 'scope', 'for']\n",
        "context_vector = make_context_vector(context, word_to_ix,vocab_size)\n",
        "a = model(context_vector)\n"
      ],
      "execution_count": 10,
      "outputs": []
    },
    {
      "cell_type": "code",
      "metadata": {
        "id": "V7c2lYQyUBKt",
        "colab": {
          "base_uri": "https://localhost:8080/"
        },
        "outputId": "b857ff79-1e9f-45fe-d277-e0109b64f4e8"
      },
      "source": [
        "#Print result\n",
        "print(f'Context: {context}\\n')\n",
        "print(f'Prediction: {ix_to_word[torch.argmax(a[0]).item()]}')"
      ],
      "execution_count": 11,
      "outputs": [
        {
          "output_type": "stream",
          "name": "stdout",
          "text": [
            "Context: ['place', 'with', 'scope', 'for']\n",
            "\n",
            "Prediction: void\n"
          ]
        }
      ]
    },
    {
      "cell_type": "code",
      "source": [
        "\n",
        "context = 'VNIT'\n",
        "context2 = 'with'\n",
        "b = model.get_word_emdedding(context)\n",
        "c = model.get_word_emdedding(context2)\n",
        "d = normalize(b[0], p=1.0, dim = 0)\n",
        "e = normalize(c[0], p=1.0, dim = 0)\n",
        "m = torch.dot(d,e).item()\n",
        "print(m)"
      ],
      "metadata": {
        "colab": {
          "base_uri": "https://localhost:8080/"
        },
        "id": "Du0Rrru3rm8M",
        "outputId": "54a87f5a-08a1-4e5c-a263-1a594d3e03a0"
      },
      "execution_count": 12,
      "outputs": [
        {
          "output_type": "stream",
          "name": "stdout",
          "text": [
            "0.006155089475214481\n"
          ]
        }
      ]
    }
  ]
}