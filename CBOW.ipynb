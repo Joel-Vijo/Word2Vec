{
  "nbformat": 4,
  "nbformat_minor": 0,
  "metadata": {
    "colab": {
      "name": "CBOW.ipynb",
      "provenance": [],
      "collapsed_sections": [],
      "include_colab_link": true
    },
    "kernelspec": {
      "name": "python3",
      "display_name": "Python 3"
    },
    "language_info": {
      "name": "python"
    }
  },
  "cells": [
    {
      "cell_type": "markdown",
      "metadata": {
        "id": "view-in-github",
        "colab_type": "text"
      },
      "source": [
        "<a href=\"https://colab.research.google.com/github/Joel-Vijo/Word2Vec/blob/main/CBOW.ipynb\" target=\"_parent\"><img src=\"https://colab.research.google.com/assets/colab-badge.svg\" alt=\"Open In Colab\"/></a>"
      ]
    },
    {
      "cell_type": "code",
      "metadata": {
        "id": "mBCR0o64Ti4o"
      },
      "source": [
        "import numpy as np\n",
        "import torch\n",
        "import torch.nn as nn\n",
        "from collections import Counter\n",
        "import matplotlib.pyplot as plt\n",
        "from torch.nn.functional import normalize"
      ],
      "execution_count": null,
      "outputs": []
    },
    {
      "cell_type": "code",
      "metadata": {
        "id": "WSKwT5OPUEvp"
      },
      "source": [
        "def make_context_vector(context, word_to_ix,vocab_size):\n",
        "    idxs=torch.zeros(len(context),vocab_size)\n",
        "    i=0\n",
        "    for w in context:\n",
        "      idxs[i,word_to_ix[w]]=1\n",
        "      i+=1\n",
        "    return idxs\n",
        "    "
      ],
      "execution_count": null,
      "outputs": []
    },
    {
      "cell_type": "code",
      "metadata": {
        "id": "wd3HuQiEVHga"
      },
      "source": [
        "raw_text = \"\"\"VNIT was a place with void scope for innovation in the field of robotics. Three enthusiastic youth from the different departments, but with same zeal, passion, perseverance and by their overwhelming contribution ,led to the dawn of robotics in VNIT Nagpur. With a smaller area and fewer funds, they sustained their interest and this audacious step bore fruits as their hard work converted into reality by the build of their first bipeds, snake robots and blind assisting devices.Our team is passionate about building robots for the greater good. We manage funds by our own, and with the unconditional support of our alumni. Not only do we build robots, but also propagate our knowledge to the younger lot by conducting workshops on various aspects of robotics, which foster them make them aware of this field. We help them in their endeavor to success. We have come a long way and as we strive for more, there would be greater difficulties ahead and thus our perseverance will never vanish. ​\"\"\".split()"
      ],
      "execution_count": null,
      "outputs": []
    },
    {
      "cell_type": "code",
      "metadata": {
        "id": "aL0HbhTBTyj2",
        "colab": {
          "base_uri": "https://localhost:8080/"
        },
        "outputId": "a9c15033-fb8b-4a9c-c5e7-09ccb84eda99"
      },
      "source": [
        "context_size = 2\n",
        "embedding_dim = 100\n",
        "\n",
        "vocab = set(raw_text)\n",
        "vocab_size = len(vocab)\n",
        "\n",
        "word_list = list(vocab)\n",
        "\n",
        "word_to_ix = {word:ix for ix, word in enumerate(vocab)}\n",
        "ix_to_word = {ix:word for ix, word in enumerate(vocab)}\n",
        "print(word_list)"
      ],
      "execution_count": null,
      "outputs": [
        {
          "output_type": "stream",
          "name": "stdout",
          "text": [
            "['is', 'robotics,', 'propagate', 'into', 'aware', 'fewer', 'hard', 'have', 'Three', 'help', 'do', 'void', 'work', 'build', 'in', 'be', 'never', 'strive', 'enthusiastic', 'reality', 'innovation', 'will', 'which', 'building', 'also', 'for', 'different', 'about', 'same', 'our', 'greater', 'Nagpur.', 'was', 'snake', 'them', 'departments,', 'various', 'scope', 'passion,', 'thus', 'aspects', 'ahead', 'more,', 'foster', 'dawn', 'With', 'overwhelming', 'support', 'would', 'manage', 'conducting', 'robotics.', 'the', 'Not', 'by', 'workshops', 'VNIT', 'step', 'they', 'robotics', 'knowledge', 'from', 'this', 'and', 'come', 'assisting', 'field.', 'place', 'endeavor', 'area', 'success.', 'funds', 'difficulties', 'with', 'but', ',led', 'as', 'We', 'field', 'passionate', 'audacious', 'own,', 'robots', 'good.', 'a', 'fruits', 'long', 'youth', 'bore', 'of', 'way', 'alumni.', 'first', 'there', 'their', 'on', 'funds,', 'devices.Our', 'to', 'sustained', 'robots,', 'converted', 'blind', 'make', 'zeal,', 'vanish.', 'only', 'perseverance', 'team', 'contribution', 'unconditional', 'we', 'younger', 'lot', 'interest', '\\u200b', 'bipeds,', 'smaller']\n"
          ]
        }
      ]
    },
    {
      "cell_type": "code",
      "metadata": {
        "colab": {
          "base_uri": "https://localhost:8080/"
        },
        "id": "Mp5zb9QWQbwa",
        "outputId": "3f67bda2-f8f2-467c-a883-dc414988bb2c"
      },
      "source": [
        "def CBOW(raw_text, window_size=2):\n",
        "    data = []\n",
        "    for i in range(window_size, len(raw_text) - window_size):\n",
        "        context = [raw_text[i - window_size], raw_text[i - (window_size - 1)], raw_text[i + (window_size - 1)], raw_text[i + window_size]]\n",
        "        target = raw_text[i]\n",
        "        data.append((context, target))\n",
        "\n",
        "    return data\n",
        "\n",
        "\n",
        "data = CBOW(raw_text)\n",
        "print(data)"
      ],
      "execution_count": null,
      "outputs": [
        {
          "output_type": "stream",
          "name": "stdout",
          "text": [
            "[(['VNIT', 'was', 'place', 'with'], 'a'), (['was', 'a', 'with', 'void'], 'place'), (['a', 'place', 'void', 'scope'], 'with'), (['place', 'with', 'scope', 'for'], 'void'), (['with', 'void', 'for', 'innovation'], 'scope'), (['void', 'scope', 'innovation', 'in'], 'for'), (['scope', 'for', 'in', 'the'], 'innovation'), (['for', 'innovation', 'the', 'field'], 'in'), (['innovation', 'in', 'field', 'of'], 'the'), (['in', 'the', 'of', 'robotics.'], 'field'), (['the', 'field', 'robotics.', 'Three'], 'of'), (['field', 'of', 'Three', 'enthusiastic'], 'robotics.'), (['of', 'robotics.', 'enthusiastic', 'youth'], 'Three'), (['robotics.', 'Three', 'youth', 'from'], 'enthusiastic'), (['Three', 'enthusiastic', 'from', 'the'], 'youth'), (['enthusiastic', 'youth', 'the', 'different'], 'from'), (['youth', 'from', 'different', 'departments,'], 'the'), (['from', 'the', 'departments,', 'but'], 'different'), (['the', 'different', 'but', 'with'], 'departments,'), (['different', 'departments,', 'with', 'same'], 'but'), (['departments,', 'but', 'same', 'zeal,'], 'with'), (['but', 'with', 'zeal,', 'passion,'], 'same'), (['with', 'same', 'passion,', 'perseverance'], 'zeal,'), (['same', 'zeal,', 'perseverance', 'and'], 'passion,'), (['zeal,', 'passion,', 'and', 'by'], 'perseverance'), (['passion,', 'perseverance', 'by', 'their'], 'and'), (['perseverance', 'and', 'their', 'overwhelming'], 'by'), (['and', 'by', 'overwhelming', 'contribution'], 'their'), (['by', 'their', 'contribution', ',led'], 'overwhelming'), (['their', 'overwhelming', ',led', 'to'], 'contribution'), (['overwhelming', 'contribution', 'to', 'the'], ',led'), (['contribution', ',led', 'the', 'dawn'], 'to'), ([',led', 'to', 'dawn', 'of'], 'the'), (['to', 'the', 'of', 'robotics'], 'dawn'), (['the', 'dawn', 'robotics', 'in'], 'of'), (['dawn', 'of', 'in', 'VNIT'], 'robotics'), (['of', 'robotics', 'VNIT', 'Nagpur.'], 'in'), (['robotics', 'in', 'Nagpur.', 'With'], 'VNIT'), (['in', 'VNIT', 'With', 'a'], 'Nagpur.'), (['VNIT', 'Nagpur.', 'a', 'smaller'], 'With'), (['Nagpur.', 'With', 'smaller', 'area'], 'a'), (['With', 'a', 'area', 'and'], 'smaller'), (['a', 'smaller', 'and', 'fewer'], 'area'), (['smaller', 'area', 'fewer', 'funds,'], 'and'), (['area', 'and', 'funds,', 'they'], 'fewer'), (['and', 'fewer', 'they', 'sustained'], 'funds,'), (['fewer', 'funds,', 'sustained', 'their'], 'they'), (['funds,', 'they', 'their', 'interest'], 'sustained'), (['they', 'sustained', 'interest', 'and'], 'their'), (['sustained', 'their', 'and', 'this'], 'interest'), (['their', 'interest', 'this', 'audacious'], 'and'), (['interest', 'and', 'audacious', 'step'], 'this'), (['and', 'this', 'step', 'bore'], 'audacious'), (['this', 'audacious', 'bore', 'fruits'], 'step'), (['audacious', 'step', 'fruits', 'as'], 'bore'), (['step', 'bore', 'as', 'their'], 'fruits'), (['bore', 'fruits', 'their', 'hard'], 'as'), (['fruits', 'as', 'hard', 'work'], 'their'), (['as', 'their', 'work', 'converted'], 'hard'), (['their', 'hard', 'converted', 'into'], 'work'), (['hard', 'work', 'into', 'reality'], 'converted'), (['work', 'converted', 'reality', 'by'], 'into'), (['converted', 'into', 'by', 'the'], 'reality'), (['into', 'reality', 'the', 'build'], 'by'), (['reality', 'by', 'build', 'of'], 'the'), (['by', 'the', 'of', 'their'], 'build'), (['the', 'build', 'their', 'first'], 'of'), (['build', 'of', 'first', 'bipeds,'], 'their'), (['of', 'their', 'bipeds,', 'snake'], 'first'), (['their', 'first', 'snake', 'robots'], 'bipeds,'), (['first', 'bipeds,', 'robots', 'and'], 'snake'), (['bipeds,', 'snake', 'and', 'blind'], 'robots'), (['snake', 'robots', 'blind', 'assisting'], 'and'), (['robots', 'and', 'assisting', 'devices.Our'], 'blind'), (['and', 'blind', 'devices.Our', 'team'], 'assisting'), (['blind', 'assisting', 'team', 'is'], 'devices.Our'), (['assisting', 'devices.Our', 'is', 'passionate'], 'team'), (['devices.Our', 'team', 'passionate', 'about'], 'is'), (['team', 'is', 'about', 'building'], 'passionate'), (['is', 'passionate', 'building', 'robots'], 'about'), (['passionate', 'about', 'robots', 'for'], 'building'), (['about', 'building', 'for', 'the'], 'robots'), (['building', 'robots', 'the', 'greater'], 'for'), (['robots', 'for', 'greater', 'good.'], 'the'), (['for', 'the', 'good.', 'We'], 'greater'), (['the', 'greater', 'We', 'manage'], 'good.'), (['greater', 'good.', 'manage', 'funds'], 'We'), (['good.', 'We', 'funds', 'by'], 'manage'), (['We', 'manage', 'by', 'our'], 'funds'), (['manage', 'funds', 'our', 'own,'], 'by'), (['funds', 'by', 'own,', 'and'], 'our'), (['by', 'our', 'and', 'with'], 'own,'), (['our', 'own,', 'with', 'the'], 'and'), (['own,', 'and', 'the', 'unconditional'], 'with'), (['and', 'with', 'unconditional', 'support'], 'the'), (['with', 'the', 'support', 'of'], 'unconditional'), (['the', 'unconditional', 'of', 'our'], 'support'), (['unconditional', 'support', 'our', 'alumni.'], 'of'), (['support', 'of', 'alumni.', 'Not'], 'our'), (['of', 'our', 'Not', 'only'], 'alumni.'), (['our', 'alumni.', 'only', 'do'], 'Not'), (['alumni.', 'Not', 'do', 'we'], 'only'), (['Not', 'only', 'we', 'build'], 'do'), (['only', 'do', 'build', 'robots,'], 'we'), (['do', 'we', 'robots,', 'but'], 'build'), (['we', 'build', 'but', 'also'], 'robots,'), (['build', 'robots,', 'also', 'propagate'], 'but'), (['robots,', 'but', 'propagate', 'our'], 'also'), (['but', 'also', 'our', 'knowledge'], 'propagate'), (['also', 'propagate', 'knowledge', 'to'], 'our'), (['propagate', 'our', 'to', 'the'], 'knowledge'), (['our', 'knowledge', 'the', 'younger'], 'to'), (['knowledge', 'to', 'younger', 'lot'], 'the'), (['to', 'the', 'lot', 'by'], 'younger'), (['the', 'younger', 'by', 'conducting'], 'lot'), (['younger', 'lot', 'conducting', 'workshops'], 'by'), (['lot', 'by', 'workshops', 'on'], 'conducting'), (['by', 'conducting', 'on', 'various'], 'workshops'), (['conducting', 'workshops', 'various', 'aspects'], 'on'), (['workshops', 'on', 'aspects', 'of'], 'various'), (['on', 'various', 'of', 'robotics,'], 'aspects'), (['various', 'aspects', 'robotics,', 'which'], 'of'), (['aspects', 'of', 'which', 'foster'], 'robotics,'), (['of', 'robotics,', 'foster', 'them'], 'which'), (['robotics,', 'which', 'them', 'make'], 'foster'), (['which', 'foster', 'make', 'them'], 'them'), (['foster', 'them', 'them', 'aware'], 'make'), (['them', 'make', 'aware', 'of'], 'them'), (['make', 'them', 'of', 'this'], 'aware'), (['them', 'aware', 'this', 'field.'], 'of'), (['aware', 'of', 'field.', 'We'], 'this'), (['of', 'this', 'We', 'help'], 'field.'), (['this', 'field.', 'help', 'them'], 'We'), (['field.', 'We', 'them', 'in'], 'help'), (['We', 'help', 'in', 'their'], 'them'), (['help', 'them', 'their', 'endeavor'], 'in'), (['them', 'in', 'endeavor', 'to'], 'their'), (['in', 'their', 'to', 'success.'], 'endeavor'), (['their', 'endeavor', 'success.', 'We'], 'to'), (['endeavor', 'to', 'We', 'have'], 'success.'), (['to', 'success.', 'have', 'come'], 'We'), (['success.', 'We', 'come', 'a'], 'have'), (['We', 'have', 'a', 'long'], 'come'), (['have', 'come', 'long', 'way'], 'a'), (['come', 'a', 'way', 'and'], 'long'), (['a', 'long', 'and', 'as'], 'way'), (['long', 'way', 'as', 'we'], 'and'), (['way', 'and', 'we', 'strive'], 'as'), (['and', 'as', 'strive', 'for'], 'we'), (['as', 'we', 'for', 'more,'], 'strive'), (['we', 'strive', 'more,', 'there'], 'for'), (['strive', 'for', 'there', 'would'], 'more,'), (['for', 'more,', 'would', 'be'], 'there'), (['more,', 'there', 'be', 'greater'], 'would'), (['there', 'would', 'greater', 'difficulties'], 'be'), (['would', 'be', 'difficulties', 'ahead'], 'greater'), (['be', 'greater', 'ahead', 'and'], 'difficulties'), (['greater', 'difficulties', 'and', 'thus'], 'ahead'), (['difficulties', 'ahead', 'thus', 'our'], 'and'), (['ahead', 'and', 'our', 'perseverance'], 'thus'), (['and', 'thus', 'perseverance', 'will'], 'our'), (['thus', 'our', 'will', 'never'], 'perseverance'), (['our', 'perseverance', 'never', 'vanish.'], 'will'), (['perseverance', 'will', 'vanish.', '\\u200b'], 'never')]\n"
          ]
        }
      ]
    },
    {
      "cell_type": "code",
      "metadata": {
        "id": "0Q5-bvDTT1VC"
      },
      "source": [
        "class CBOW_Model(torch.nn.Module):\n",
        "    def __init__(self, vocab_size, embedding_dim):\n",
        "        super(CBOW_Model, self).__init__()\n",
        "        self.n_embed=embedding_dim\n",
        "        self.embed=nn.Embedding(embedding_dim,vocab_size)\n",
        "        self.embeddings = nn.Linear(vocab_size,embedding_dim)\n",
        "        self.activation = nn.LogSoftmax(dim=-1)\n",
        "        self.linear = nn.Linear(embedding_dim, vocab_size)\n",
        "      \n",
        "    def forward(self, inputs):\n",
        "        input=torch.mean(inputs,0,True)\n",
        "        embeds = self.embeddings(input)\n",
        "        out = self.linear(embeds)\n",
        "        out = self.activation(out)\n",
        "        return out\n",
        "        \n",
        "    def get_word_emdedding(self, word):\n",
        "        w = torch.zeros(1,vocab_size)\n",
        "        w[0,word_to_ix[word]]=1\n",
        "        return self.embeddings(w).view(1,-1)\n",
        "    "
      ],
      "execution_count": null,
      "outputs": []
    },
    {
      "cell_type": "code",
      "metadata": {
        "id": "zDkjrjKFT3q9"
      },
      "source": [
        "\n",
        "model = CBOW_Model(vocab_size, embedding_dim)\n",
        "\n",
        "loss_function = nn.NLLLoss()\n",
        "optimizer = torch.optim.SGD(model.parameters(), lr=0.01)"
      ],
      "execution_count": null,
      "outputs": []
    },
    {
      "cell_type": "code",
      "metadata": {
        "id": "3gJ2ELIMT9YU",
        "colab": {
          "base_uri": "https://localhost:8080/"
        },
        "outputId": "69b1afaa-87be-4bb5-fd92-ff0a7edf1c62"
      },
      "source": [
        "#TRAINING\n",
        "losses=[]\n",
        "for epoch in range(350):\n",
        "    total_loss = 0\n",
        "    n=0\n",
        "    for context, target in data:\n",
        "        context_vector = make_context_vector(context, word_to_ix,vocab_size) \n",
        "        log_probs = model(context_vector)\n",
        "        loss = loss_function(log_probs, torch.tensor([word_to_ix[target]]))\n",
        "        total_loss+=loss\n",
        "        n+=1\n",
        "    if(epoch%10==0):\n",
        "      print(total_loss.item()/n)\n",
        "    losses.append(total_loss.item()/n)\n",
        "    #print(total_loss)\n",
        "    optimizer.zero_grad()\n",
        "    total_loss.backward()\n",
        "    optimizer.step()"
      ],
      "execution_count": null,
      "outputs": [
        {
          "output_type": "stream",
          "name": "stdout",
          "text": [
            "4.765432962557164\n",
            "4.613468077124619\n",
            "4.528372043516578\n",
            "4.502472295993712\n",
            "4.481068680926067\n",
            "4.458082617782965\n",
            "4.431838617092225\n",
            "4.401029633312691\n",
            "4.364229155749809\n",
            "4.319807099133003\n",
            "4.265928687118903\n",
            "4.200601717320884\n",
            "4.1218321265243905\n",
            "4.027838358064977\n",
            "3.9173252757002666\n",
            "3.789723838247904\n",
            "3.645223850157203\n",
            "3.4845964385242\n",
            "3.308945446479611\n",
            "3.119626859339272\n",
            "2.9184304214105374\n",
            "2.707818008050686\n",
            "2.491011828911014\n",
            "2.271915342749619\n",
            "2.054856835342035\n",
            "1.8442438637338034\n",
            "1.644154990591654\n",
            "1.4579657577886813\n",
            "1.288077935939882\n",
            "1.1357916855230563\n",
            "1.0013370048709032\n",
            "0.8840347848287443\n",
            "0.7825609532798209\n",
            "0.6952234593833365\n",
            "0.620213764469798\n"
          ]
        }
      ]
    },
    {
      "cell_type": "code",
      "source": [
        "fig = plt.figure()\n",
        "plt.xlabel('Epoch', fontsize=14)\n",
        "plt.plot(losses)\n",
        "print(losses)"
      ],
      "metadata": {
        "id": "Joyo02ri-Jej",
        "colab": {
          "base_uri": "https://localhost:8080/",
          "height": 320
        },
        "outputId": "0fe61824-2ef7-46a3-c22e-94b85d468f4d"
      },
      "execution_count": null,
      "outputs": [
        {
          "output_type": "stream",
          "name": "stdout",
          "text": [
            "[4.765432962557164, 4.749523255883194, 4.734171797589558, 4.719119188262195, 4.704162225490663, 4.689167673994855, 4.674058495498285, 4.658825013695694, 4.643530868902439, 4.628331626333842, 4.613468077124619, 4.599250235208651, 4.586024214581745, 4.574113799304497, 4.563727029939977, 4.5549230808165015, 4.547600722894436, 4.541539261980755, 4.536469622356136, 4.532146919064406, 4.528372043516578, 4.524997618140244, 4.521927996379573, 4.519082790467797, 4.516420690024772, 4.513892569193026, 4.511475353706174, 4.509141503310785, 4.50687427055545, 4.504655791491997, 4.502472295993712, 4.500317457245617, 4.498177877286586, 4.496052439619855, 4.493930351443407, 4.491809007598133, 4.489681709103468, 4.487546967297066, 4.485400688357469, 4.483242500119093, 4.481068680926067, 4.478878858612805, 4.476667078529916, 4.474434457174161, 4.472178389386433, 4.469896642173209, 4.467591448528011, 4.465259458960556, 4.4628965796493905, 4.460505043588033, 4.458082617782965, 4.455625208412728, 4.453136909298781, 4.450609160632622, 4.44804828922923, 4.445447968273628, 4.442808942096989, 4.440130094202553, 4.437409191596799, 4.434646234279725, 4.431838617092225, 4.42898261837843, 4.426083448456555, 4.423135897008384, 4.420136986709222, 4.417088950552592, 4.413986578220275, 4.410832102705792, 4.407621430187691, 4.404353816334794, 4.401029633312691, 4.397644415134337, 4.394197417468559, 4.390687523818597, 4.387113245522103, 4.383473466082317, 4.379767441168064, 4.375991076957889, 4.372143256955031, 4.368221748165968, 4.364229155749809, 4.36015766422923, 4.356008762266578, 4.351781705530678, 4.347472400200076, 4.343079357612424, 4.338604066430069, 4.334039083341273, 4.329388130001906, 4.324642646603468, 4.319807099133003, 4.31487553294112, 4.309850553186928, 4.304724344393102, 4.299499883884337, 4.294171961342416, 4.288740204601753, 4.283201636337653, 4.277553279225419, 4.271796621927401, 4.265928687118903, 4.259943147984947, 4.253844470512576, 4.2476255835556405, 4.241283881955031, 4.234823459532203, 4.228235756478658, 4.221523750119093, 4.214681857969703, 4.207707847036967, 4.200601717320884, 4.193363468821456, 4.185986030392531, 4.178472007193217, 4.170816561070884, 4.163017086866425, 4.155077306235709, 4.146988659370236, 4.138755240091464, 4.130369605087653, 4.1218321265243905, 4.11314243223609, 4.104302383050686, 4.095304163490853, 4.086150006550114, 4.076834329744664, 4.0673608547303735, 4.057722882526677, 4.047927112114139, 4.0379638671875, 4.027838358064977, 4.017545374428353, 4.007087149271151, 3.9964581001095656, 3.985664553758575, 3.9747016720655486, 3.963566477705793, 3.952261203672828, 3.9407895716225227, 3.929141905249619, 3.9173252757002666, 3.9053363334841844, 3.8931769394293063, 3.8808429997141767, 3.868340096822599, 3.855665253429878, 3.8428188417016007, 3.829801233803354, 3.8166113132383765, 3.803252801662538, 3.789723838247904, 3.7760255394912345, 3.762157161061357, 3.7481209359517913, 3.7339187249904726, 3.7195490395150532, 3.7050118795255336, 3.6903117110089556, 3.675445184475038, 3.660414905082889, 3.645223850157203, 3.6298697867044587, 3.6143568085461126, 3.5986841713509907, 3.582851875119093, 3.566864385837462, 3.5507183540158156, 3.5344186178067836, 3.5179633163824313, 3.5013557992330413, 3.4845964385242, 3.4676900724085367, 3.4506307462366617, 3.4334229259956173, 3.416069589010099, 3.398570735280107, 3.380929714295922, 3.3631450373951983, 3.3452167045779344, 3.3271510426591084, 3.308945446479611, 3.290602893364139, 3.272125244140625, 3.253513987471418, 3.2347698676876906, 3.215895117782965, 3.1968912264195883, 3.1777607987566694, 3.1585056956221416, 3.1391266613471798, 3.119626859339272, 3.100007406095179, 3.080269232028868, 3.060417733541349, 3.0404530967154155, 3.020376438047828, 3.00019445651915, 2.9799041748046875, 2.9595134083817647, 2.939021412919207, 2.9184304214105374, 2.8977463885051447, 2.8769693142030297, 2.856104594905202, 2.835152416694455, 2.8141176177234186, 2.793003733565168, 2.7718131832960173, 2.750550246820217, 2.7292173432140814, 2.707818008050686, 2.6863567073170733, 2.6648362322551447, 2.6432601184379765, 2.6216333901009907, 2.5999582802377095, 2.578239999166349, 2.5564831989567454, 2.5346895543540398, 2.5128642756764483, 2.491011828911014, 2.469136307879192, 2.4472414342368523, 2.42533130180545, 2.4034120513171686, 2.3814861018483233, 2.3595573611375764, 2.337631969917111, 2.3157132776772102, 2.293806122570503, 2.271915342749619, 2.2500441016220467, 2.2281974234232087, 2.2063808906369093, 2.1845972945050494, 2.1628527757598133, 2.1411501256431023, 2.119495112721513, 2.097891644733708, 2.076343815501143, 2.054856835342035, 2.033433867663872, 2.0120801227848704, 1.9908004388576601, 1.9695979792897294, 1.9484768379025343, 1.9274414806831173, 1.9064973040324886, 1.8856467270269626, 1.8648938434879954, 1.8442438637338034, 1.8236988346751144, 1.8032634083817645, 1.782941492592416, 1.762735878548971, 1.7426517765696456, 1.722691419647961, 1.702858343356993, 1.6831557111042301, 1.6635870584627477, 1.644154990591654, 1.624862484815644, 1.605712890625, 1.5867086270960367, 1.5678526715534489, 1.549147722197742, 1.5305956398568503, 1.5121992157726754, 1.4939606829387386, 1.4758821813071645, 1.4579657577886813, 1.4402129940870332, 1.4226264023199313, 1.4052068198599466, 1.3879562005764101, 1.3708769635456364, 1.3539685505192454, 1.3372331944907583, 1.3206728493295066, 1.304286770704316, 1.288077935939882, 1.2720456007050305, 1.256190044123952, 1.2405134991901676, 1.2250155937380907, 1.2096966999333079, 1.1945564456102324, 1.1795958542242282, 1.1648151118580887, 1.1502139393876238, 1.1357916855230563, 1.1215489085127668, 1.1074843988185976, 1.0935978773163586, 1.0798902744200172, 1.0663589849704649, 1.053004660257479, 1.039826090742902, 1.0268229042611472, 1.0139929608600895, 1.0013370048709032, 0.9888520589688929, 0.9765387744438357, 0.9643957556747809, 0.9524202114198266, 0.9406126068859566, 0.9289709882038396, 0.9174938667111281, 0.9061796607040777, 0.895026881520341, 0.8840347848287443, 0.8732014167599562, 0.8625243582376619, 0.8520035162204649, 0.8416353551352896, 0.8314195028165492, 0.8213545636432927, 0.8114377463736185, 0.8016674693037824, 0.7920425228956269, 0.7825609532798209, 0.7732203879007479, 0.7640199893858375, 0.7549573851794731, 0.746030388808832, 0.7372376046529631, 0.7285774510081221, 0.7200478809635814, 0.7116465219637242, 0.703372490115282, 0.6952234593833365, 0.6871974758985566, 0.6792929114364996, 0.6715082308141197, 0.663841154517197, 0.6562902404040825, 0.6488531159191597, 0.641528943689858, 0.6343153046398629, 0.6272106635861281, 0.620213764469798, 0.6133219090903678, 0.6065342600752668, 0.5998487705137672, 0.5932639517435213, 0.5867783616228801, 0.5803896275962271, 0.5740970983737852, 0.5678985874827315, 0.5617925132193217]\n"
          ]
        },
        {
          "output_type": "display_data",
          "data": {
            "text/plain": [
              "<Figure size 432x288 with 1 Axes>"
            ],
            "image/png": "[encoded data removed]"
          },
          "metadata": {
            "needs_background": "light"
          }
        }
      ]
    },
    {
      "cell_type": "code",
      "metadata": {
        "id": "2TLJir1cT_Il"
      },
      "source": [
        "#TESTING\n",
        "context = ['place', 'with', 'scope', 'for']\n",
        "context_vector = make_context_vector(context, word_to_ix,vocab_size)\n",
        "a = model(context_vector)\n"
      ],
      "execution_count": null,
      "outputs": []
    },
    {
      "cell_type": "code",
      "metadata": {
        "id": "V7c2lYQyUBKt",
        "colab": {
          "base_uri": "https://localhost:8080/"
        },
        "outputId": "963a6e50-3de9-41c5-b942-af0ffdb01142"
      },
      "source": [
        "#Print result\n",
        "print(f'Context: {context}\\n')\n",
        "print(f'Prediction: {ix_to_word[torch.argmax(a[0]).item()]}')"
      ],
      "execution_count": null,
      "outputs": [
        {
          "output_type": "stream",
          "name": "stdout",
          "text": [
            "Context: ['place', 'with', 'scope', 'for']\n",
            "\n",
            "Prediction: void\n"
          ]
        }
      ]
    },
    {
      "cell_type": "code",
      "source": [
        "\n",
        "context = 'VNIT'\n",
        "context2 = 'with'\n",
        "b = model.get_word_emdedding(context)\n",
        "c = model.get_word_emdedding(context2)\n",
        "d = normalize(b[0], p=1.0, dim = 0)\n",
        "e = normalize(c[0], p=1.0, dim = 0)\n",
        "m = torch.dot(d,e).item()\n",
        "print(m)"
      ],
      "metadata": {
        "colab": {
          "base_uri": "https://localhost:8080/"
        },
        "id": "Du0Rrru3rm8M",
        "outputId": "3f7bc594-57ec-4a60-be0b-e4b9b6bcb518"
      },
      "execution_count": null,
      "outputs": [
        {
          "output_type": "stream",
          "name": "stdout",
          "text": [
            "0.003000892698764801\n"
          ]
        }
      ]
    }
  ]
}